{
 "cells": [
  {
   "cell_type": "code",
   "execution_count": 15,
   "metadata": {},
   "outputs": [],
   "source": [
    "from dash import Dash, html, dash_table, dcc, callback, Output, Input\n",
    "import dash\n",
    "import pandas as pd\n",
    "import polars as pl\n",
    "import datetime as dt\n",
    "import plotly.express as px\n",
    "from google.cloud import storage\n",
    "from configparser import ConfigParser\n",
    "from google.oauth2 import service_account\n",
    "from googleapiclient.discovery import build\n",
    "from utils.demo_io import (\n",
    "    get_initial_slide_df,\n",
    "    get_fovs_df,\n",
    "    get_top_level_dirs,\n",
    "    populate_slide_rows,\n",
    "    get_histogram_df,\n",
    "    get_image,\n",
    ")\n",
    "import polars as pl\n",
    "from gcsfs import GCSFileSystem\n",
    "from PIL import Image\n",
    "from io import BytesIO\n",
    "import numpy as np\n",
    "\n",
    "# Parse in key and bucket name from config file\n",
    "cfp = ConfigParser()\n",
    "cfp.read(\"config.ini\")\n",
    "\n",
    "service_account_key_json = cfp[\"GCS\"][\"gcs_storage_key\"]\n",
    "gs_url = cfp[\"GCS\"][\"bucket_url\"]\n",
    "\n",
    "bucket_name = gs_url.replace(\"gs://\", \"\")\n",
    "\n",
    "# Define GCS file system so files can be read\n",
    "gcs = GCSFileSystem(token=service_account_key_json)\n",
    "\n",
    "# Authenticate using the service account key file\n",
    "credentials = service_account.Credentials.from_service_account_file(\n",
    "    service_account_key_json, scopes=[\"https://www.googleapis.com/auth/cloud-platform\"]\n",
    ")\n",
    "\n",
    "# Create a storage client\n",
    "storage_service = build(\"storage\", \"v1\", credentials=credentials)\n"
   ]
  },
  {
   "cell_type": "code",
   "execution_count": 2,
   "metadata": {},
   "outputs": [],
   "source": [
    "page_name = \"595-AS13_2022-04-13_12-49-37.776201\""
   ]
  },
  {
   "cell_type": "code",
   "execution_count": 11,
   "metadata": {},
   "outputs": [],
   "source": [
    "fovs_df = get_fovs_df(storage_service, bucket_name, [page_name])"
   ]
  },
  {
   "cell_type": "code",
   "execution_count": 22,
   "metadata": {},
   "outputs": [],
   "source": [
    "def get_image(\n",
    "    storage_service,\n",
    "    bucket_name,\n",
    "    slide_name,\n",
    "    uri,\n",
    "    resize_factor=1.0,\n",
    "):\n",
    "    \"\"\"\n",
    "    :brief: returns a file object corresponding to the image at the given uri\n",
    "    :param uri: uri of the image, omitting bucket name\n",
    "    \"\"\"\n",
    "    prefix = slide_name\n",
    "    if not prefix.endswith(\"/\"):\n",
    "        prefix += \"/\"\n",
    "    prefix += \"spot_detection_result/\"\n",
    "    image = Image.open(\n",
    "        BytesIO(\n",
    "            (\n",
    "                storage_service.objects()\n",
    "                .get_media(bucket=bucket_name, object=(prefix + uri))\n",
    "                .execute()\n",
    "            )\n",
    "        )\n",
    "    )\n",
    "    image = image.resize((int(image.size[0] * resize_factor), int(image.size[1] * resize_factor)))\n",
    "    return image"
   ]
  },
  {
   "cell_type": "code",
   "execution_count": 23,
   "metadata": {},
   "outputs": [],
   "source": [
    "get_image(\n",
    "    storage_service,\n",
    "    bucket_name,\n",
    "    page_name,\n",
    "    fovs_df[\"image_uri\"][0].split(\"/\")[-1],\n",
    "    resize_factor=0.1\n",
    ").show()"
   ]
  },
  {
   "cell_type": "code",
   "execution_count": 2,
   "metadata": {},
   "outputs": [
    {
     "data": {
      "text/plain": [
       "['3D7_2022-04-12_12-31-59.262248/',\n",
       " '595-AS13_2022-04-13_12-49-37.776201/',\n",
       " 'BUS-114-1_2023-01-21_19-25-3.663354/',\n",
       " 'BUS-114-4_2023-01-22_14-16-12.198770/',\n",
       " 'BUS-115-3_2022-04-14_13-16-21.944479/',\n",
       " 'BUS-115-3_2023-01-22_14-38-0.250020/',\n",
       " 'BUS-115-4_2023-01-22_14-59-56.741396/',\n",
       " 'BUS-127-1_2023-06-03_20-49-47.385834/',\n",
       " 'BUS-127-2_2023-06-03_20-24-44.574780/',\n",
       " 'BUS-128-1_2023-06-03_18-07-36.860664/',\n",
       " 'BUS-129-1_2023-09-01_15-04-41.559592/',\n",
       " 'BUS-129-2_2023-09-02_16-50-8.886882/',\n",
       " 'BUS_2023-09-01_14-24-3.896428/',\n",
       " 'DPSP-0877-AB-1_2023-02-22_19-51-21.616158/',\n",
       " 'DPSP-0948-ND-1_2023-02-23_17-49-22.377072/',\n",
       " 'DPSP-0952-AR-1_2023-02-22_20-07-0.416412/',\n",
       " 'DPSP-1022-AZ-1_2023-02-22_20-28-39.763125/',\n",
       " 'DPSP-1070-AS-1_2023-02-23_17-37-57.653301/',\n",
       " 'Fingerprick_HL_2023-01-27_B01_2023-02-17_13-04-48.321619/',\n",
       " 'Fingerprick_HL_2023-01-27_B02_2023-02-17_15-31-53.777898/',\n",
       " 'Fingerprick_HL_2023-01-27_B03_2023-02-17_15-50-57.776833/',\n",
       " 'Fingerprick_HL_2023-01-27_C02_2023-02-17_16-13-57.571627/',\n",
       " 'Fingerprick_HL_2023-01-27_C03_2023-02-17_16-35-37.082487/',\n",
       " 'PAT-070-3_2023-01-22_15-24-28.812821/',\n",
       " 'PAT-071-3_2023-01-22_15-47-3.096602/',\n",
       " 'PAT-072-1_2023-01-22_17-17-58.363496/',\n",
       " 'PAT-073-1_2023-01-22_16-32-5.192404/',\n",
       " 'PAT-074-1_2023-01-22_16-55-50.887780/',\n",
       " 'PAT-096-AS-1_2023-03-31_22-43-21.629615/',\n",
       " 'PAT-096-AS-2_2023-03-31_22-01-12.056430/',\n",
       " 'PAT-097-1_2023-03-31_23-12-27.769723/',\n",
       " 'PAT-097-2_2023-03-31_23-36-59.835903/',\n",
       " 'PAT-098-1_2023-03-31_23-54-33.610785/',\n",
       " 'PAT-098-2_2023-04-01_19-40-18.096470/',\n",
       " 'PAT-099-1_2023-04-01_20-44-26.752081/',\n",
       " 'PAT-099-1_over exposed_2023-04-01_20-22-26.309591/',\n",
       " 'PAT-099-2_2023-04-01_21-02-38.730916/',\n",
       " 'PAT-100-1_weak_staining_2023-04-02_13-17-38.707987/',\n",
       " 'PAT-100-2_weak_staining_2023-04-02_14-09-25.697496/',\n",
       " 'PAT-101-1_2023-09-01_16-57-6.686687/',\n",
       " 'PAT-101-2_2023-09-02_17-04-12.388423/',\n",
       " 'PAT-102_2023-09-01_16-38-29.038320/',\n",
       " 'PAT-102_L-1-1_2023-09-02_17-20-25.667930/',\n",
       " 'PAT-103-2_2023-06-04_20-22-52.563088/',\n",
       " 'PAT-103-AF-1_2023-04-02_18-29-20.135184/',\n",
       " 'PAT-104-AR-1_2023-04-02_19-50-32.175255/',\n",
       " 'PAT-104-AR-2_2023-04-02_20-33-32.857049/',\n",
       " 'PAT-109-1_bright_2023-04-02_23-04-1.060515/',\n",
       " 'PAT-109-2_2023-06-03_23-38-20.797186/',\n",
       " 'PAT-110-1_2023-06-03_23-19-6.084884/']"
      ]
     },
     "execution_count": 2,
     "metadata": {},
     "output_type": "execute_result"
    }
   ],
   "source": [
    "get_top_level_dirs(storage_service, bucket_name)"
   ]
  },
  {
   "cell_type": "code",
   "execution_count": 31,
   "metadata": {},
   "outputs": [],
   "source": [
    "def get_spots_csv(storage_service, bucket_name, gcs, slide_name):\n",
    "    \"\"\"\n",
    "    :brief: returns a dataframe corresponding to the spots data for a given slide\n",
    "    :param storage_service: storage service object\n",
    "    :param bucket_name: name of bucket\n",
    "    :param slide_name: name of slide, not including bucket name\n",
    "    :return spots_csv: polars dataframe corresponding to spots data for given slide\n",
    "    :return spots_npy: numpy array corresponding to spots data for given slide\n",
    "    \"\"\"\n",
    "    spot_data_file_prefix = (\n",
    "        bucket_name.strip(\"/\")\n",
    "        + \"/patient_slides_analysis/\"\n",
    "        + slide_name\n",
    "    )\n",
    "    spot_data_raw_file_path = spot_data_file_prefix + \"_ann_w_pred.csv\"\n",
    "    print(spot_data_raw_file_path)\n",
    "    spot_data_raw_npy_path = spot_data_file_prefix + \".npy\"\n",
    "    result = (None, None)\n",
    "    try:\n",
    "        with gcs.open(spot_data_raw_file_path, \"rb\") as f:\n",
    "            spots_csv = pl.read_csv(f)\n",
    "            return spots_csv\n",
    "    except:\n",
    "        print(\"No spot_data_raw.csv found for \" + str(slide_name))\n",
    "        \n",
    "    # try:\n",
    "    #     with gcs.open(spot_data_raw_npy_path, \"rb\") as f:\n",
    "    #         spots_npy = np.load(f)\n",
    "    #         result[1] = spots_npy\n",
    "    # except:\n",
    "    #     print(\"No spot_data_raw.npy found for \" + str(slide_name))\n",
    "    return result"
   ]
  },
  {
   "cell_type": "code",
   "execution_count": 29,
   "metadata": {},
   "outputs": [],
   "source": [
    "def get_spots_csv(storage_service, bucket_name, gcs, slide_name):\n",
    "    \"\"\"\n",
    "    :brief: returns a dataframe corresponding to the spots data for a given slide\n",
    "    :param storage_service: storage service object\n",
    "    :param bucket_name: name of bucket\n",
    "    :param slide_name: name of slide, not including bucket name\n",
    "    :return spots_csv: polars dataframe corresponding to spots data for given slide\n",
    "    \"\"\"\n",
    "    spot_data_raw_file_path = (\n",
    "        bucket_name.strip(\"/\")\n",
    "        + \"/patient_slides_analysis/\"\n",
    "        + slide_name\n",
    "        + \"_ann_w_pred.csv\"\n",
    "    )\n",
    "    print(spot_data_raw_file_path)\n",
    "    try:\n",
    "        with gcs.open(spot_data_raw_file_path, \"rb\") as f:\n",
    "            spots_csv = pl.read_csv(f)\n",
    "            return spots_csv\n",
    "    except:\n",
    "        print(\"No spot_data_raw.csv found for \" + str(slide_name))\n",
    "        return None"
   ]
  },
  {
   "cell_type": "code",
   "execution_count": 30,
   "metadata": {},
   "outputs": [
    {
     "name": "stdout",
     "output_type": "stream",
     "text": [
      "octopi-malaria-uganda-2022-data-processing/patient_slides_analysis/BUS-114-1_2023-01-21_19-25-3.663354_ann_w_pred.csv\n"
     ]
    },
    {
     "data": {
      "text/html": [
       "<div><style>\n",
       ".dataframe > thead > tr > th,\n",
       ".dataframe > tbody > tr > td {\n",
       "  text-align: right;\n",
       "}\n",
       "</style>\n",
       "<small>shape: (385_614, 5)</small><table border=\"1\" class=\"dataframe\"><thead><tr><th>index</th><th>annotation</th><th>non-parasite output</th><th>parasite output</th><th>unsure output</th></tr><tr><td>i64</td><td>i64</td><td>f64</td><td>f64</td><td>f64</td></tr></thead><tbody><tr><td>328685</td><td>-1</td><td>7.0117e-9</td><td>0.999977</td><td>0.000023</td></tr><tr><td>331891</td><td>-1</td><td>2.0538e-9</td><td>0.9999739</td><td>0.000026</td></tr><tr><td>344495</td><td>-1</td><td>2.8992e-8</td><td>0.9999696</td><td>0.00003</td></tr><tr><td>314451</td><td>-1</td><td>3.8813e-9</td><td>0.999956</td><td>0.000044</td></tr><tr><td>244651</td><td>-1</td><td>9.4928e-8</td><td>0.9999552</td><td>0.000045</td></tr><tr><td>329138</td><td>-1</td><td>1.6429e-8</td><td>0.9999547</td><td>0.000045</td></tr><tr><td>119469</td><td>-1</td><td>4.3904e-8</td><td>0.9999535</td><td>0.000046</td></tr><tr><td>263990</td><td>-1</td><td>5.9838e-9</td><td>0.9999521</td><td>0.000048</td></tr><tr><td>166323</td><td>-1</td><td>3.2403e-8</td><td>0.9999374</td><td>0.000063</td></tr><tr><td>208679</td><td>-1</td><td>6.4593e-8</td><td>0.999936</td><td>0.000064</td></tr><tr><td>165252</td><td>-1</td><td>1.1159e-7</td><td>0.999935</td><td>0.000065</td></tr><tr><td>280844</td><td>-1</td><td>1.2409e-8</td><td>0.999934</td><td>0.000066</td></tr><tr><td>&hellip;</td><td>&hellip;</td><td>&hellip;</td><td>&hellip;</td><td>&hellip;</td></tr><tr><td>260942</td><td>-1</td><td>1.0</td><td>9.5939e-22</td><td>9.9600e-14</td></tr><tr><td>312999</td><td>-1</td><td>1.0</td><td>5.8636e-22</td><td>9.9988e-14</td></tr><tr><td>253765</td><td>-1</td><td>1.0</td><td>3.7478e-22</td><td>1.4812e-14</td></tr><tr><td>241026</td><td>-1</td><td>1.0</td><td>7.7060e-24</td><td>1.6997e-15</td></tr><tr><td>71725</td><td>-1</td><td>1.0</td><td>3.1622e-24</td><td>6.0482e-17</td></tr><tr><td>108455</td><td>-1</td><td>1.0</td><td>6.3345e-25</td><td>1.4891e-16</td></tr><tr><td>108461</td><td>-1</td><td>1.0</td><td>1.7257e-29</td><td>2.2858e-19</td></tr><tr><td>108474</td><td>-1</td><td>1.0</td><td>0.0</td><td>0.0</td></tr><tr><td>360227</td><td>-1</td><td>1.0</td><td>0.0</td><td>0.0</td></tr><tr><td>176179</td><td>-1</td><td>1.0</td><td>0.0</td><td>0.0</td></tr><tr><td>302840</td><td>-1</td><td>1.0</td><td>0.0</td><td>0.0</td></tr><tr><td>360228</td><td>-1</td><td>1.0</td><td>0.0</td><td>0.0</td></tr></tbody></table></div>"
      ],
      "text/plain": [
       "shape: (385_614, 5)\n",
       "┌────────┬────────────┬─────────────────────┬─────────────────┬───────────────┐\n",
       "│ index  ┆ annotation ┆ non-parasite output ┆ parasite output ┆ unsure output │\n",
       "│ ---    ┆ ---        ┆ ---                 ┆ ---             ┆ ---           │\n",
       "│ i64    ┆ i64        ┆ f64                 ┆ f64             ┆ f64           │\n",
       "╞════════╪════════════╪═════════════════════╪═════════════════╪═══════════════╡\n",
       "│ 328685 ┆ -1         ┆ 7.0117e-9           ┆ 0.999977        ┆ 0.000023      │\n",
       "│ 331891 ┆ -1         ┆ 2.0538e-9           ┆ 0.9999739       ┆ 0.000026      │\n",
       "│ 344495 ┆ -1         ┆ 2.8992e-8           ┆ 0.9999696       ┆ 0.00003       │\n",
       "│ 314451 ┆ -1         ┆ 3.8813e-9           ┆ 0.999956        ┆ 0.000044      │\n",
       "│ …      ┆ …          ┆ …                   ┆ …               ┆ …             │\n",
       "│ 360227 ┆ -1         ┆ 1.0                 ┆ 0.0             ┆ 0.0           │\n",
       "│ 176179 ┆ -1         ┆ 1.0                 ┆ 0.0             ┆ 0.0           │\n",
       "│ 302840 ┆ -1         ┆ 1.0                 ┆ 0.0             ┆ 0.0           │\n",
       "│ 360228 ┆ -1         ┆ 1.0                 ┆ 0.0             ┆ 0.0           │\n",
       "└────────┴────────────┴─────────────────────┴─────────────────┴───────────────┘"
      ]
     },
     "execution_count": 30,
     "metadata": {},
     "output_type": "execute_result"
    }
   ],
   "source": [
    "get_spots_csv(storage_service, bucket_name, gcs, \"BUS-114-1_2023-01-21_19-25-3.663354\")"
   ]
  },
  {
   "cell_type": "code",
   "execution_count": 32,
   "metadata": {},
   "outputs": [
    {
     "name": "stdout",
     "output_type": "stream",
     "text": [
      "octopi-malaria-uganda-2022-data-processing/patient_slides_analysis/BUS-114-1_2023-01-21_19-25-3.663354_ann_w_pred.csv\n"
     ]
    },
    {
     "data": {
      "text/html": [
       "<div><style>\n",
       ".dataframe > thead > tr > th,\n",
       ".dataframe > tbody > tr > td {\n",
       "  text-align: right;\n",
       "}\n",
       "</style>\n",
       "<small>shape: (385_614, 5)</small><table border=\"1\" class=\"dataframe\"><thead><tr><th>index</th><th>annotation</th><th>non-parasite output</th><th>parasite output</th><th>unsure output</th></tr><tr><td>i64</td><td>i64</td><td>f64</td><td>f64</td><td>f64</td></tr></thead><tbody><tr><td>328685</td><td>-1</td><td>7.0117e-9</td><td>0.999977</td><td>0.000023</td></tr><tr><td>331891</td><td>-1</td><td>2.0538e-9</td><td>0.9999739</td><td>0.000026</td></tr><tr><td>344495</td><td>-1</td><td>2.8992e-8</td><td>0.9999696</td><td>0.00003</td></tr><tr><td>314451</td><td>-1</td><td>3.8813e-9</td><td>0.999956</td><td>0.000044</td></tr><tr><td>244651</td><td>-1</td><td>9.4928e-8</td><td>0.9999552</td><td>0.000045</td></tr><tr><td>329138</td><td>-1</td><td>1.6429e-8</td><td>0.9999547</td><td>0.000045</td></tr><tr><td>119469</td><td>-1</td><td>4.3904e-8</td><td>0.9999535</td><td>0.000046</td></tr><tr><td>263990</td><td>-1</td><td>5.9838e-9</td><td>0.9999521</td><td>0.000048</td></tr><tr><td>166323</td><td>-1</td><td>3.2403e-8</td><td>0.9999374</td><td>0.000063</td></tr><tr><td>208679</td><td>-1</td><td>6.4593e-8</td><td>0.999936</td><td>0.000064</td></tr><tr><td>165252</td><td>-1</td><td>1.1159e-7</td><td>0.999935</td><td>0.000065</td></tr><tr><td>280844</td><td>-1</td><td>1.2409e-8</td><td>0.999934</td><td>0.000066</td></tr><tr><td>&hellip;</td><td>&hellip;</td><td>&hellip;</td><td>&hellip;</td><td>&hellip;</td></tr><tr><td>260942</td><td>-1</td><td>1.0</td><td>9.5939e-22</td><td>9.9600e-14</td></tr><tr><td>312999</td><td>-1</td><td>1.0</td><td>5.8636e-22</td><td>9.9988e-14</td></tr><tr><td>253765</td><td>-1</td><td>1.0</td><td>3.7478e-22</td><td>1.4812e-14</td></tr><tr><td>241026</td><td>-1</td><td>1.0</td><td>7.7060e-24</td><td>1.6997e-15</td></tr><tr><td>71725</td><td>-1</td><td>1.0</td><td>3.1622e-24</td><td>6.0482e-17</td></tr><tr><td>108455</td><td>-1</td><td>1.0</td><td>6.3345e-25</td><td>1.4891e-16</td></tr><tr><td>108461</td><td>-1</td><td>1.0</td><td>1.7257e-29</td><td>2.2858e-19</td></tr><tr><td>108474</td><td>-1</td><td>1.0</td><td>0.0</td><td>0.0</td></tr><tr><td>360227</td><td>-1</td><td>1.0</td><td>0.0</td><td>0.0</td></tr><tr><td>176179</td><td>-1</td><td>1.0</td><td>0.0</td><td>0.0</td></tr><tr><td>302840</td><td>-1</td><td>1.0</td><td>0.0</td><td>0.0</td></tr><tr><td>360228</td><td>-1</td><td>1.0</td><td>0.0</td><td>0.0</td></tr></tbody></table></div>"
      ],
      "text/plain": [
       "shape: (385_614, 5)\n",
       "┌────────┬────────────┬─────────────────────┬─────────────────┬───────────────┐\n",
       "│ index  ┆ annotation ┆ non-parasite output ┆ parasite output ┆ unsure output │\n",
       "│ ---    ┆ ---        ┆ ---                 ┆ ---             ┆ ---           │\n",
       "│ i64    ┆ i64        ┆ f64                 ┆ f64             ┆ f64           │\n",
       "╞════════╪════════════╪═════════════════════╪═════════════════╪═══════════════╡\n",
       "│ 328685 ┆ -1         ┆ 7.0117e-9           ┆ 0.999977        ┆ 0.000023      │\n",
       "│ 331891 ┆ -1         ┆ 2.0538e-9           ┆ 0.9999739       ┆ 0.000026      │\n",
       "│ 344495 ┆ -1         ┆ 2.8992e-8           ┆ 0.9999696       ┆ 0.00003       │\n",
       "│ 314451 ┆ -1         ┆ 3.8813e-9           ┆ 0.999956        ┆ 0.000044      │\n",
       "│ …      ┆ …          ┆ …                   ┆ …               ┆ …             │\n",
       "│ 360227 ┆ -1         ┆ 1.0                 ┆ 0.0             ┆ 0.0           │\n",
       "│ 176179 ┆ -1         ┆ 1.0                 ┆ 0.0             ┆ 0.0           │\n",
       "│ 302840 ┆ -1         ┆ 1.0                 ┆ 0.0             ┆ 0.0           │\n",
       "│ 360228 ┆ -1         ┆ 1.0                 ┆ 0.0             ┆ 0.0           │\n",
       "└────────┴────────────┴─────────────────────┴─────────────────┴───────────────┘"
      ]
     },
     "execution_count": 32,
     "metadata": {},
     "output_type": "execute_result"
    }
   ],
   "source": [
    "get_spots_csv(storage_service, bucket_name, gcs, \"BUS-114-1_2023-01-21_19-25-3.663354\")"
   ]
  },
  {
   "cell_type": "code",
   "execution_count": 33,
   "metadata": {},
   "outputs": [
    {
     "data": {
      "text/plain": [
       "2"
      ]
     },
     "execution_count": 33,
     "metadata": {},
     "output_type": "execute_result"
    }
   ],
   "source": [
    "1+1"
   ]
  },
  {
   "cell_type": "code",
   "execution_count": 54,
   "metadata": {},
   "outputs": [
    {
     "data": {
      "text/plain": [
       "array([[[[ 28,  29,  29, ...,  16,  18,  18],\n",
       "         [ 25,  26,  26, ...,  23,  27,  27],\n",
       "         [ 25,  26,  26, ...,  23,  27,  27],\n",
       "         ...,\n",
       "         [ 39,  49,  49, ..., 255, 255, 255],\n",
       "         [ 45,  51,  51, ..., 255, 255, 255],\n",
       "         [ 45,  51,  51, ..., 255, 255, 255]],\n",
       "\n",
       "        [[ 19,  18,  17, ...,  13,  13,  13],\n",
       "         [ 19,  19,  18, ...,  16,  16,  15],\n",
       "         [ 18,  19,  18, ...,  19,  19,  19],\n",
       "         ...,\n",
       "         [ 36,  40,  43, ..., 255, 255, 255],\n",
       "         [ 34,  38,  44, ..., 255, 255, 255],\n",
       "         [ 31,  36,  43, ..., 255, 255, 255]],\n",
       "\n",
       "        [[ 12,  12,  10, ...,   6,   6,   8],\n",
       "         [ 12,  12,  10, ...,   6,   6,   8],\n",
       "         [ 10,  10,   8, ...,   9,   9,  10],\n",
       "         ...,\n",
       "         [ 21,  21,  21, ..., 255, 255, 255],\n",
       "         [ 21,  21,  21, ..., 255, 255, 255],\n",
       "         [ 18,  18,  25, ..., 255, 255, 255]],\n",
       "\n",
       "        [[137, 116,  89, ..., 100, 103, 106],\n",
       "         [135, 114,  92, ...,  95,  97, 108],\n",
       "         [138, 111,  89, ...,  87, 105, 115],\n",
       "         ...,\n",
       "         [ 94,  94,  93, ..., 113,  99, 100],\n",
       "         [ 94,  94,  94, ..., 126, 112, 111],\n",
       "         [ 94,  94,  93, ..., 132, 119, 118]]],\n",
       "\n",
       "\n",
       "       [[[ 26,  26,  26, ...,  18,  16,  16],\n",
       "         [ 27,  22,  22, ...,  18,  17,  17],\n",
       "         [ 27,  22,  22, ...,  18,  17,  17],\n",
       "         ...,\n",
       "         [ 28,  39,  39, ...,  27,  32,  32],\n",
       "         [ 30,  29,  29, ...,  30,  34,  34],\n",
       "         [ 30,  29,  29, ...,  30,  34,  34]],\n",
       "\n",
       "        [[ 18,  16,  14, ...,  12,  12,  11],\n",
       "         [ 17,  15,  14, ...,  12,  12,  13],\n",
       "         [ 16,  14,  12, ...,  12,  13,  14],\n",
       "         ...,\n",
       "         [ 20,  21,  21, ...,  20,  20,  19],\n",
       "         [ 19,  20,  21, ...,  20,  21,  20],\n",
       "         [ 17,  17,  18, ...,  21,  21,  20]],\n",
       "\n",
       "        [[  7,   7,   5, ...,   6,   6,   7],\n",
       "         [  7,   7,   5, ...,   6,   6,   7],\n",
       "         [  8,   8,   6, ...,   8,   8,  11],\n",
       "         ...,\n",
       "         [ 10,  10,  10, ...,  10,  10,  10],\n",
       "         [ 10,  10,  10, ...,  10,  10,  10],\n",
       "         [ 11,  11,   8, ...,  11,  11,   9]],\n",
       "\n",
       "        [[173, 190, 196, ..., 140, 129, 117],\n",
       "         [183, 200, 188, ..., 115, 103,  97],\n",
       "         [199, 193, 180, ...,  92,  83,  75],\n",
       "         ...,\n",
       "         [136, 138, 137, ..., 139, 135, 131],\n",
       "         [142, 145, 146, ..., 136, 132, 129],\n",
       "         [145, 144, 145, ..., 135, 134, 131]]],\n",
       "\n",
       "\n",
       "       [[[ 67,  49,  49, ...,  16,  19,  19],\n",
       "         [181,  85,  85, ...,  17,  21,  21],\n",
       "         [181,  85,  85, ...,  17,  21,  21],\n",
       "         ...,\n",
       "         [255, 255, 255, ...,  28,  29,  29],\n",
       "         [255, 255, 255, ...,  25,  24,  24],\n",
       "         [255, 255, 255, ...,  25,  24,  24]],\n",
       "\n",
       "        [[ 75,  61,  53, ...,  15,  13,  14],\n",
       "         [ 96,  82,  65, ...,  15,  13,  14],\n",
       "         [178, 108,  91, ...,  13,  13,  14],\n",
       "         ...,\n",
       "         [255, 255, 255, ...,  21,  19,  18],\n",
       "         [255, 255, 255, ...,  21,  19,  20],\n",
       "         [247, 237, 237, ...,  19,  21,  21]],\n",
       "\n",
       "        [[ 27,  27,  24, ...,   9,   9,   7],\n",
       "         [ 27,  27,  24, ...,   9,   9,   7],\n",
       "         [ 59,  59,  33, ...,   6,   6,  11],\n",
       "         ...,\n",
       "         [208, 208, 168, ...,   9,   9,   9],\n",
       "         [208, 208, 168, ...,   9,   9,   9],\n",
       "         [103, 103,  82, ...,   9,   9,   8]],\n",
       "\n",
       "        [[139, 140, 145, ..., 130, 130, 117],\n",
       "         [144, 145, 139, ..., 129, 128, 120],\n",
       "         [149, 147, 141, ..., 132, 130, 122],\n",
       "         ...,\n",
       "         [125, 123, 111, ..., 120, 118, 116],\n",
       "         [121, 119, 118, ..., 122, 120, 119],\n",
       "         [119, 119, 119, ..., 122, 123, 122]]],\n",
       "\n",
       "\n",
       "       ...,\n",
       "\n",
       "\n",
       "       [[[ 13,  13,  13, ...,  17,  14,  14],\n",
       "         [ 15,  16,  16, ...,  17,  11,  11],\n",
       "         [ 15,  16,  16, ...,  17,  11,  11],\n",
       "         ...,\n",
       "         [ 14,  16,  16, ...,  14,  17,  17],\n",
       "         [ 15,  14,  14, ...,  17,  16,  16],\n",
       "         [ 15,  14,  14, ...,  17,  16,  16]],\n",
       "\n",
       "        [[ 14,  13,  12, ...,  13,  12,  13],\n",
       "         [ 14,  13,  12, ...,  13,  13,  12],\n",
       "         [ 14,  13,  12, ...,  13,  13,  13],\n",
       "         ...,\n",
       "         [ 12,  11,  13, ...,  13,  13,  13],\n",
       "         [ 12,  11,  12, ...,  13,  14,  12],\n",
       "         [ 11,  12,  13, ...,  14,  14,  12]],\n",
       "\n",
       "        [[  8,   8,   9, ...,   7,   7,   9],\n",
       "         [  8,   8,   9, ...,   7,   7,   9],\n",
       "         [  8,   8,  10, ...,   7,   7,   8],\n",
       "         ...,\n",
       "         [  8,   8,   8, ...,  10,  10,   7],\n",
       "         [  8,   8,   8, ...,  10,  10,   7],\n",
       "         [  7,   7,   7, ...,   8,   8,   8]],\n",
       "\n",
       "        [[126, 125, 128, ..., 128, 128, 128],\n",
       "         [128, 126, 125, ..., 126, 126, 128],\n",
       "         [126, 126, 125, ..., 126, 126, 128],\n",
       "         ...,\n",
       "         [126, 128, 128, ..., 126, 126, 127],\n",
       "         [127, 128, 131, ..., 124, 124, 126],\n",
       "         [128, 129, 131, ..., 126, 123, 124]]],\n",
       "\n",
       "\n",
       "       [[[ 12,  16,  16, ...,  14,  14,  14],\n",
       "         [ 13,  16,  16, ...,  14,  18,  18],\n",
       "         [ 13,  16,  16, ...,  14,  18,  18],\n",
       "         ...,\n",
       "         [ 21,  19,  19, ...,  19,  21,  21],\n",
       "         [ 18,  19,  19, ...,  18,  20,  20],\n",
       "         [ 18,  19,  19, ...,  18,  20,  20]],\n",
       "\n",
       "        [[ 10,  11,  11, ...,  12,  11,  10],\n",
       "         [  9,  10,  11, ...,  14,  13,  12],\n",
       "         [ 10,  11,  13, ...,  16,  14,  13],\n",
       "         ...,\n",
       "         [ 14,  14,  16, ...,  17,  18,  19],\n",
       "         [ 16,  16,  16, ...,  15,  16,  16],\n",
       "         [ 15,  15,  15, ...,  14,  14,  14]],\n",
       "\n",
       "        [[  6,   6,   8, ...,   8,   8,   9],\n",
       "         [  6,   6,   8, ...,   8,   8,   9],\n",
       "         [  5,   5,   7, ...,   9,   9,   7],\n",
       "         ...,\n",
       "         [  7,   7,  11, ...,   9,   9,   6],\n",
       "         [  7,   7,  11, ...,   9,   9,   6],\n",
       "         [  9,   9,   8, ...,   8,   8,   6]],\n",
       "\n",
       "        [[116, 117, 117, ..., 115, 115, 118],\n",
       "         [117, 117, 117, ..., 117, 116, 116],\n",
       "         [118, 118, 117, ..., 113, 116, 116],\n",
       "         ...,\n",
       "         [116, 118, 118, ..., 115, 115, 110],\n",
       "         [116, 118, 119, ..., 117, 117, 116],\n",
       "         [117, 116, 117, ..., 118, 118, 118]]],\n",
       "\n",
       "\n",
       "       [[[ 28,  29,  29, ...,  63,  61,  61],\n",
       "         [ 27,  32,  32, ...,  63,  63,  63],\n",
       "         [ 27,  32,  32, ...,  63,  63,  63],\n",
       "         ...,\n",
       "         [ 24,  29,  29, ...,  48,  53,  53],\n",
       "         [ 25,  28,  28, ...,  45,  47,  47],\n",
       "         [ 25,  28,  28, ...,  45,  47,  47]],\n",
       "\n",
       "        [[ 22,  21,  23, ...,  37,  34,  33],\n",
       "         [ 20,  19,  23, ...,  38,  35,  34],\n",
       "         [ 19,  22,  25, ...,  36,  38,  36],\n",
       "         ...,\n",
       "         [ 18,  19,  20, ...,  29,  31,  31],\n",
       "         [ 19,  20,  20, ...,  28,  30,  29],\n",
       "         [ 18,  19,  19, ...,  28,  27,  26]],\n",
       "\n",
       "        [[  9,   9,  11, ...,  15,  15,  18],\n",
       "         [  9,   9,  11, ...,  15,  15,  18],\n",
       "         [ 12,  12,  13, ...,  14,  14,  13],\n",
       "         ...,\n",
       "         [ 11,  11,  10, ...,  14,  14,  13],\n",
       "         [ 11,  11,  10, ...,  14,  14,  13],\n",
       "         [  7,   7,  10, ...,  12,  12,  13]],\n",
       "\n",
       "        [[117, 116, 113, ..., 110, 109, 115],\n",
       "         [113, 112, 112, ..., 111, 109, 115],\n",
       "         [112, 112, 111, ..., 107, 110, 115],\n",
       "         ...,\n",
       "         [114, 115, 114, ..., 112, 113, 111],\n",
       "         [112, 114, 115, ..., 113, 114, 113],\n",
       "         [115, 114, 116, ..., 119, 119, 117]]]], dtype=uint8)"
      ]
     },
     "metadata": {},
     "output_type": "display_data"
    }
   ],
   "source": [
    "# open examples/patient_slides_analysis/BUS-114-1_2023-01-21_19-25-3.663354.npy\n",
    "spot_images_np = np.load('examples\\patient_slides_analysis_BUS-127-1_2023-06-03_20-49-47.385834.npy')\n",
    "display(spot_images_np)"
   ]
  },
  {
   "cell_type": "code",
   "execution_count": 37,
   "metadata": {},
   "outputs": [
    {
     "data": {
      "text/plain": [
       "(102829, 4, 31, 31)"
      ]
     },
     "execution_count": 37,
     "metadata": {},
     "output_type": "execute_result"
    }
   ],
   "source": [
    "spot_images_np.shape"
   ]
  },
  {
   "cell_type": "code",
   "execution_count": 48,
   "metadata": {},
   "outputs": [
    {
     "data": {
      "text/plain": [
       "(31, 31, 3)"
      ]
     },
     "execution_count": 48,
     "metadata": {},
     "output_type": "execute_result"
    }
   ],
   "source": [
    "spot_images_np[0, :-1, :, :].T.shape"
   ]
  },
  {
   "cell_type": "code",
   "execution_count": 53,
   "metadata": {},
   "outputs": [],
   "source": [
    "Image.fromarray(spot_images_np[2, 1:, :, :].T, 'RGB').show()"
   ]
  },
  {
   "cell_type": "code",
   "execution_count": 55,
   "metadata": {},
   "outputs": [],
   "source": [
    "# save spot_images_np as a .npz file\n",
    "np.savez_compressed('examples\\patient_slides_analysis_BUS-127-1_2023-06-03_20-49-47.385834.npz', spot_images_np)"
   ]
  }
 ],
 "metadata": {
  "kernelspec": {
   "display_name": "base",
   "language": "python",
   "name": "python3"
  },
  "language_info": {
   "codemirror_mode": {
    "name": "ipython",
    "version": 3
   },
   "file_extension": ".py",
   "mimetype": "text/x-python",
   "name": "python",
   "nbconvert_exporter": "python",
   "pygments_lexer": "ipython3",
   "version": "3.9.16"
  }
 },
 "nbformat": 4,
 "nbformat_minor": 2
}
