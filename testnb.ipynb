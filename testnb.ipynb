{
 "cells": [
  {
   "cell_type": "code",
   "execution_count": 1,
   "metadata": {},
   "outputs": [],
   "source": [
    "from dash import Dash, html, dash_table, dcc, callback, Output, Input\n",
    "import dash\n",
    "import pandas as pd\n",
    "import polars as pl\n",
    "import datetime as dt\n",
    "import plotly.express as px\n",
    "from google.cloud import storage\n",
    "from configparser import ConfigParser\n",
    "from google.oauth2 import service_account\n",
    "from googleapiclient.discovery import build\n",
    "from utils.demo_io import (\n",
    "    get_initial_slide_df,\n",
    "    get_fovs_df,\n",
    "    get_top_level_dirs,\n",
    "    populate_slide_rows,\n",
    "    get_histogram_df,\n",
    "    get_image,\n",
    ")\n",
    "import polars as pl\n",
    "from gcsfs import GCSFileSystem\n",
    "from PIL import Image\n",
    "from io import BytesIO\n",
    "\n",
    "# Parse in key and bucket name from config file\n",
    "cfp = ConfigParser()\n",
    "cfp.read(\"config.ini\")\n",
    "\n",
    "service_account_key_json = cfp[\"GCS\"][\"gcs_storage_key\"]\n",
    "gs_url = cfp[\"GCS\"][\"bucket_url\"]\n",
    "\n",
    "bucket_name = gs_url.replace(\"gs://\", \"\")\n",
    "\n",
    "# Define GCS file system so files can be read\n",
    "gcs = GCSFileSystem(token=service_account_key_json)\n",
    "\n",
    "# Authenticate using the service account key file\n",
    "credentials = service_account.Credentials.from_service_account_file(\n",
    "    service_account_key_json, scopes=[\"https://www.googleapis.com/auth/cloud-platform\"]\n",
    ")\n",
    "\n",
    "# Create a storage client\n",
    "storage_service = build(\"storage\", \"v1\", credentials=credentials)\n"
   ]
  },
  {
   "cell_type": "code",
   "execution_count": 4,
   "metadata": {},
   "outputs": [],
   "source": [
    "page_name = \"595-AS13_2022-04-13_12-49-37.776201\""
   ]
  },
  {
   "cell_type": "code",
   "execution_count": 9,
   "metadata": {},
   "outputs": [],
   "source": [
    "fovs_df = get_fovs_df(storage_service, bucket_name, [page_name])"
   ]
  },
  {
   "cell_type": "code",
   "execution_count": 12,
   "metadata": {},
   "outputs": [],
   "source": [
    "Image.open(BytesIO(get_image(\n",
    "    storage_service,\n",
    "    bucket_name,\n",
    "    page_name,\n",
    "    fovs_df[\"image_uri\"][0].split(\"/\")[-1],\n",
    ")\n",
    ")\n",
    ").show()"
   ]
  }
 ],
 "metadata": {
  "kernelspec": {
   "display_name": "base",
   "language": "python",
   "name": "python3"
  },
  "language_info": {
   "codemirror_mode": {
    "name": "ipython",
    "version": 3
   },
   "file_extension": ".py",
   "mimetype": "text/x-python",
   "name": "python",
   "nbconvert_exporter": "python",
   "pygments_lexer": "ipython3",
   "version": "3.9.16"
  }
 },
 "nbformat": 4,
 "nbformat_minor": 2
}
